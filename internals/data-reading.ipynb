{
 "cells": [
  {
   "metadata": {},
   "cell_type": "markdown",
   "source": [
    "# Geoguessr Image Analysis\n",
    "## Mason Mines: Up-and-Coming Geoguessr Fan\n",
    "\n",
    "**Introduction:** Geoguessr is a game in which players are placed in a random google-street view somewhere across the globe, and are tasked with identifying where they are based on their surroundings. Points are awarded based on the distance between the guessed and actual location (ranging from 0-5000 points, with 5000 representing essentially adjacent guesses).\n",
    "\n",
    "**Purpose:** By analyzing street-view data, I hope to gain a greater understanding of global locations and their common attributes. At the very least, I hope to gain more information about the locations chosen during games to gain a competitive edge.\n",
    "\n",
    "Code and analysis done in Jupyterlab, as I believe it is a better medium to show my design-process in addition to the code."
   ],
   "id": "7b8715978167b39"
  },
  {
   "metadata": {
    "ExecuteTime": {
     "end_time": "2025-01-30T19:05:07.566574Z",
     "start_time": "2025-01-30T19:05:07.545752Z"
    }
   },
   "cell_type": "code",
   "source": [
    "import pandas as pd\n",
    "\n",
    "data = pd.read_csv('../data/coords.csv')\n",
    "\n",
    "# Display the first few rows of the data\n",
    "print(data.head())\n",
    "\n",
    "# Optional: Check basic information about the data\n",
    "print(data.info())\n"
   ],
   "id": "a07d70238edae843",
   "outputs": [
    {
     "name": "stdout",
     "output_type": "stream",
     "text": [
      "   20.82488495242425  -98.4995168750031\n",
      "0          -3.451752         -54.563937\n",
      "1         -23.496464         -47.460542\n",
      "2         -16.548678         -72.852778\n",
      "3         -35.010870         140.064397\n",
      "4         -14.223667         -43.753704\n",
      "<class 'pandas.core.frame.DataFrame'>\n",
      "RangeIndex: 9999 entries, 0 to 9998\n",
      "Data columns (total 2 columns):\n",
      " #   Column             Non-Null Count  Dtype  \n",
      "---  ------             --------------  -----  \n",
      " 0   20.82488495242425  9999 non-null   float64\n",
      " 1   -98.4995168750031  9999 non-null   float64\n",
      "dtypes: float64(2)\n",
      "memory usage: 156.4 KB\n",
      "None\n"
     ]
    }
   ],
   "execution_count": 79
  },
  {
   "metadata": {},
   "cell_type": "markdown",
   "source": [
    "### Initial Data Analysis:\n",
    "**Image Data** 9,999 img files (type: .png)\n",
    "\n",
    "**Coordinate Data** [2x1] dataframe containing latitude/longitude data (type: float x2)\n"
   ],
   "id": "fab193cbfd4d6830"
  },
  {
   "metadata": {},
   "cell_type": "markdown",
   "source": [
    "## Basic Data Cleaning\n",
    "\n",
    "Includes adding data columns,\n"
   ],
   "id": "843f22517e91bff4"
  },
  {
   "metadata": {
    "ExecuteTime": {
     "end_time": "2025-01-30T19:05:07.597288Z",
     "start_time": "2025-01-30T19:05:07.588172Z"
    }
   },
   "cell_type": "code",
   "source": [
    "# Assign proper column names to the DataFrame\n",
    "data.columns = ['latitude', 'longitude']\n",
    "data.head()"
   ],
   "id": "a00901f6d71a2f0c",
   "outputs": [
    {
     "data": {
      "text/plain": [
       "    latitude   longitude\n",
       "0  -3.451752  -54.563937\n",
       "1 -23.496464  -47.460542\n",
       "2 -16.548678  -72.852778\n",
       "3 -35.010870  140.064397\n",
       "4 -14.223667  -43.753704"
      ],
      "text/html": [
       "<div>\n",
       "<style scoped>\n",
       "    .dataframe tbody tr th:only-of-type {\n",
       "        vertical-align: middle;\n",
       "    }\n",
       "\n",
       "    .dataframe tbody tr th {\n",
       "        vertical-align: top;\n",
       "    }\n",
       "\n",
       "    .dataframe thead th {\n",
       "        text-align: right;\n",
       "    }\n",
       "</style>\n",
       "<table border=\"1\" class=\"dataframe\">\n",
       "  <thead>\n",
       "    <tr style=\"text-align: right;\">\n",
       "      <th></th>\n",
       "      <th>latitude</th>\n",
       "      <th>longitude</th>\n",
       "    </tr>\n",
       "  </thead>\n",
       "  <tbody>\n",
       "    <tr>\n",
       "      <th>0</th>\n",
       "      <td>-3.451752</td>\n",
       "      <td>-54.563937</td>\n",
       "    </tr>\n",
       "    <tr>\n",
       "      <th>1</th>\n",
       "      <td>-23.496464</td>\n",
       "      <td>-47.460542</td>\n",
       "    </tr>\n",
       "    <tr>\n",
       "      <th>2</th>\n",
       "      <td>-16.548678</td>\n",
       "      <td>-72.852778</td>\n",
       "    </tr>\n",
       "    <tr>\n",
       "      <th>3</th>\n",
       "      <td>-35.010870</td>\n",
       "      <td>140.064397</td>\n",
       "    </tr>\n",
       "    <tr>\n",
       "      <th>4</th>\n",
       "      <td>-14.223667</td>\n",
       "      <td>-43.753704</td>\n",
       "    </tr>\n",
       "  </tbody>\n",
       "</table>\n",
       "</div>"
      ]
     },
     "execution_count": 80,
     "metadata": {},
     "output_type": "execute_result"
    }
   ],
   "execution_count": 80
  },
  {
   "metadata": {},
   "cell_type": "markdown",
   "source": [
    "## Adding Country Data\n",
    "\n",
    "Ideally, we would be able to map the coordinates to a country location, so that we would be able check if our guess is correct to the location. We can do this through **reverse geo-coding**, or getting a location's info based on it's latitude and longitude. I did this through the package ```reverse_geocode```.\n"
   ],
   "id": "d51024457fb7e58b"
  },
  {
   "metadata": {
    "ExecuteTime": {
     "end_time": "2025-01-30T19:05:07.675912Z",
     "start_time": "2025-01-30T19:05:07.651394Z"
    }
   },
   "cell_type": "code",
   "source": [
    "import reverse_geocode\n",
    "\n",
    "def get_countries(df = data, limit : int = 5):\n",
    "    data_slice = df.head(limit)\n",
    "    for index, row in data_slice.iterrows():\n",
    "        coord = (row['latitude'], row['longitude'])\n",
    "        print(reverse_geocode.get(coord))\n",
    "\n",
    "get_countries(10)"
   ],
   "id": "ed657e547f9a1048",
   "outputs": [
    {
     "ename": "AttributeError",
     "evalue": "'int' object has no attribute 'head'",
     "output_type": "error",
     "traceback": [
      "\u001B[0;31m---------------------------------------------------------------------------\u001B[0m",
      "\u001B[0;31mAttributeError\u001B[0m                            Traceback (most recent call last)",
      "Cell \u001B[0;32mIn[81], line 9\u001B[0m\n\u001B[1;32m      6\u001B[0m         coord \u001B[38;5;241m=\u001B[39m (row[\u001B[38;5;124m'\u001B[39m\u001B[38;5;124mlatitude\u001B[39m\u001B[38;5;124m'\u001B[39m], row[\u001B[38;5;124m'\u001B[39m\u001B[38;5;124mlongitude\u001B[39m\u001B[38;5;124m'\u001B[39m])\n\u001B[1;32m      7\u001B[0m         \u001B[38;5;28mprint\u001B[39m(reverse_geocode\u001B[38;5;241m.\u001B[39mget(coord))\n\u001B[0;32m----> 9\u001B[0m \u001B[43mget_countries\u001B[49m\u001B[43m(\u001B[49m\u001B[38;5;241;43m10\u001B[39;49m\u001B[43m)\u001B[49m\n",
      "Cell \u001B[0;32mIn[81], line 4\u001B[0m, in \u001B[0;36mget_countries\u001B[0;34m(df, limit)\u001B[0m\n\u001B[1;32m      3\u001B[0m \u001B[38;5;28;01mdef\u001B[39;00m\u001B[38;5;250m \u001B[39m\u001B[38;5;21mget_countries\u001B[39m(df \u001B[38;5;241m=\u001B[39m data, limit : \u001B[38;5;28mint\u001B[39m \u001B[38;5;241m=\u001B[39m \u001B[38;5;241m5\u001B[39m):\n\u001B[0;32m----> 4\u001B[0m     data_slice \u001B[38;5;241m=\u001B[39m \u001B[43mdf\u001B[49m\u001B[38;5;241;43m.\u001B[39;49m\u001B[43mhead\u001B[49m(limit)\n\u001B[1;32m      5\u001B[0m     \u001B[38;5;28;01mfor\u001B[39;00m index, row \u001B[38;5;129;01min\u001B[39;00m data_slice\u001B[38;5;241m.\u001B[39miterrows():\n\u001B[1;32m      6\u001B[0m         coord \u001B[38;5;241m=\u001B[39m (row[\u001B[38;5;124m'\u001B[39m\u001B[38;5;124mlatitude\u001B[39m\u001B[38;5;124m'\u001B[39m], row[\u001B[38;5;124m'\u001B[39m\u001B[38;5;124mlongitude\u001B[39m\u001B[38;5;124m'\u001B[39m])\n",
      "\u001B[0;31mAttributeError\u001B[0m: 'int' object has no attribute 'head'"
     ]
    }
   ],
   "execution_count": 81
  },
  {
   "metadata": {},
   "cell_type": "markdown",
   "source": "Done to everything, that looks like the following.",
   "id": "75fb1da172ffba3d"
  },
  {
   "metadata": {
    "ExecuteTime": {
     "end_time": "2025-01-30T19:05:07.716004Z",
     "start_time": "2025-01-30T16:50:40.291769Z"
    }
   },
   "cell_type": "code",
   "source": [
    "import reverse_geocode\n",
    "\n",
    "\n",
    "def add_country_data(data, limit : int = 5):\n",
    "    \"\"\"\n",
    "    Adds country information to the DataFrame based on latitude and longitude.\n",
    "\n",
    "    Args:\n",
    "        data (DataFrame): A pandas DataFrame containing 'latitude' and 'longitude' columns.\n",
    "\n",
    "    Returns:\n",
    "        DataFrame: A new DataFrame with an additional 'country' column.\n",
    "    \"\"\"\n",
    "    # Select the first `limit` rows for processing\n",
    "    example_data = data.head(limit).copy()\n",
    "\n",
    "    # Initialize an empty list to store country names\n",
    "    country_list = []\n",
    "\n",
    "    # Iterate over the rows of the provided DataFrame to fetch country data\n",
    "    for index, row in example_data.iterrows():\n",
    "        coord = (row['latitude'], row['longitude'])  # Extract lat/lon as a tuple\n",
    "        try:\n",
    "            country_info = reverse_geocode.get(coord)  # Get country information\n",
    "            country_list.append(str(country_info['country']))  # Append the country name\n",
    "        except Exception as e:\n",
    "            print(f\"Error retrieving data for coordinates {coord}: {e}\")\n",
    "            country_list.append(None)  # Append None if there’s an error\n",
    "\n",
    "    # Add the 'country' column to the DataFrame\n",
    "    example_data['country'] = country_list\n",
    "\n",
    "    return example_data\n",
    "\n",
    "mod_data = add_country_data(data, data.size)\n",
    "print(mod_data.head())\n",
    "print(mod_data.info())\n",
    "\n"
   ],
   "id": "a155f9e843006f7e",
   "outputs": [
    {
     "name": "stdout",
     "output_type": "stream",
     "text": [
      "    latitude   longitude    country\n",
      "0  -3.451752  -54.563937     Brazil\n",
      "1 -23.496464  -47.460542     Brazil\n",
      "2 -16.548678  -72.852778       Peru\n",
      "3 -35.010870  140.064397  Australia\n",
      "4 -14.223667  -43.753704     Brazil\n",
      "<class 'pandas.core.frame.DataFrame'>\n",
      "RangeIndex: 9999 entries, 0 to 9998\n",
      "Data columns (total 3 columns):\n",
      " #   Column     Non-Null Count  Dtype  \n",
      "---  ------     --------------  -----  \n",
      " 0   latitude   9999 non-null   float64\n",
      " 1   longitude  9999 non-null   float64\n",
      " 2   country    9999 non-null   object \n",
      "dtypes: float64(2), object(1)\n",
      "memory usage: 234.5+ KB\n",
      "None\n"
     ]
    }
   ],
   "execution_count": 64
  },
  {
   "metadata": {},
   "cell_type": "markdown",
   "source": "Note: This could also be done with other reverse-geocoded data (region, approx. city, etc), but the accuracy may be lower, especially when considering not all google street views are in cities or recognized cities.",
   "id": "3049cc632046b4d3"
  },
  {
   "metadata": {},
   "cell_type": "markdown",
   "source": [
    "### Adding image data\n",
    "\n",
    "Next, we want to have a way to access the images from the data we have."
   ],
   "id": "8538ef789f1db908"
  },
  {
   "metadata": {
    "ExecuteTime": {
     "end_time": "2025-01-30T19:05:07.731819Z",
     "start_time": "2025-01-30T16:54:45.582272Z"
    }
   },
   "cell_type": "code",
   "source": [
    "import matplotlib.pyplot as plt\n",
    "import matplotlib.image as mpimg\n",
    "\n",
    "\n",
    "def filter_by_country(data, target_country=\"Peru\", limit=5):\n",
    "    \"\"\"\n",
    "    Finds the indices of rows where the `country` column matches the target_country\n",
    "    and displays the corresponding images.\n",
    "\n",
    "    Args:\n",
    "        data (DataFrame): A pandas DataFrame with a 'country' column.\n",
    "        target_country (str): The country to search for.\n",
    "        limit (int): The maximum number of images to display.\n",
    "    \"\"\"\n",
    "    # Filter the DataFrame to locate rows where the 'country' column matches the target_country\n",
    "    matching_indices = data.index[data['country'] == target_country].tolist()\n",
    "    country_instances = 0\n",
    "    for index in matching_indices:\n",
    "        if country_instances >= limit:\n",
    "            break  # Stop if the limit is reached\n",
    "\n",
    "        img_path = f\"data/dataset/{index}.png\"\n",
    "        try:\n",
    "            # Read and display the image\n",
    "            img = mpimg.imread(img_path)\n",
    "            plt.imshow(img)\n",
    "            plt.axis('off')\n",
    "            plt.show()\n",
    "\n",
    "            country_instances += 1  # Increment the counter after successfully showing an image\n",
    "        except FileNotFoundError:\n",
    "            print(f\"Image not found at path: {img_path}\")\n",
    "        except Exception as e:\n",
    "            print(f\"Error displaying image {img_path}: {e}\")\n",
    "\n",
    "filter_by_country(mod_data, \"Peru\", 5)"
   ],
   "id": "1d2cef6eaae9a603",
   "outputs": [
    {
     "name": "stdout",
     "output_type": "stream",
     "text": [
      "Image not found at path: data/dataset/2.png\n",
      "Image not found at path: data/dataset/444.png\n",
      "Image not found at path: data/dataset/553.png\n",
      "Image not found at path: data/dataset/557.png\n",
      "Image not found at path: data/dataset/581.png\n",
      "Image not found at path: data/dataset/586.png\n",
      "Image not found at path: data/dataset/618.png\n",
      "Image not found at path: data/dataset/676.png\n",
      "Image not found at path: data/dataset/707.png\n",
      "Image not found at path: data/dataset/728.png\n",
      "Image not found at path: data/dataset/798.png\n",
      "Image not found at path: data/dataset/901.png\n",
      "Image not found at path: data/dataset/962.png\n",
      "Image not found at path: data/dataset/1019.png\n",
      "Image not found at path: data/dataset/1020.png\n",
      "Image not found at path: data/dataset/1167.png\n",
      "Image not found at path: data/dataset/1317.png\n",
      "Image not found at path: data/dataset/1343.png\n",
      "Image not found at path: data/dataset/1367.png\n",
      "Image not found at path: data/dataset/1443.png\n",
      "Image not found at path: data/dataset/1486.png\n",
      "Image not found at path: data/dataset/1576.png\n",
      "Image not found at path: data/dataset/1617.png\n",
      "Image not found at path: data/dataset/1697.png\n",
      "Image not found at path: data/dataset/1999.png\n",
      "Image not found at path: data/dataset/2125.png\n",
      "Image not found at path: data/dataset/2154.png\n",
      "Image not found at path: data/dataset/2157.png\n",
      "Image not found at path: data/dataset/2174.png\n",
      "Image not found at path: data/dataset/2178.png\n",
      "Image not found at path: data/dataset/2256.png\n",
      "Image not found at path: data/dataset/2295.png\n",
      "Image not found at path: data/dataset/2320.png\n",
      "Image not found at path: data/dataset/2458.png\n",
      "Image not found at path: data/dataset/2462.png\n",
      "Image not found at path: data/dataset/2554.png\n",
      "Image not found at path: data/dataset/2588.png\n",
      "Image not found at path: data/dataset/2662.png\n",
      "Image not found at path: data/dataset/2703.png\n",
      "Image not found at path: data/dataset/2819.png\n",
      "Image not found at path: data/dataset/2860.png\n",
      "Image not found at path: data/dataset/2869.png\n",
      "Image not found at path: data/dataset/2880.png\n",
      "Image not found at path: data/dataset/2950.png\n",
      "Image not found at path: data/dataset/3030.png\n",
      "Image not found at path: data/dataset/3082.png\n",
      "Image not found at path: data/dataset/3119.png\n",
      "Image not found at path: data/dataset/3147.png\n",
      "Image not found at path: data/dataset/3254.png\n",
      "Image not found at path: data/dataset/3433.png\n",
      "Image not found at path: data/dataset/3461.png\n",
      "Image not found at path: data/dataset/3482.png\n",
      "Image not found at path: data/dataset/3643.png\n",
      "Image not found at path: data/dataset/3670.png\n",
      "Image not found at path: data/dataset/3735.png\n",
      "Image not found at path: data/dataset/3894.png\n",
      "Image not found at path: data/dataset/3949.png\n",
      "Image not found at path: data/dataset/4023.png\n",
      "Image not found at path: data/dataset/4271.png\n",
      "Image not found at path: data/dataset/4333.png\n",
      "Image not found at path: data/dataset/4360.png\n",
      "Image not found at path: data/dataset/4451.png\n",
      "Image not found at path: data/dataset/4501.png\n",
      "Image not found at path: data/dataset/4530.png\n",
      "Image not found at path: data/dataset/4596.png\n",
      "Image not found at path: data/dataset/4617.png\n",
      "Image not found at path: data/dataset/4653.png\n",
      "Image not found at path: data/dataset/4825.png\n",
      "Image not found at path: data/dataset/4907.png\n",
      "Image not found at path: data/dataset/4951.png\n",
      "Image not found at path: data/dataset/5007.png\n",
      "Image not found at path: data/dataset/5076.png\n",
      "Image not found at path: data/dataset/5143.png\n",
      "Image not found at path: data/dataset/5205.png\n",
      "Image not found at path: data/dataset/5281.png\n",
      "Image not found at path: data/dataset/5346.png\n",
      "Image not found at path: data/dataset/5429.png\n",
      "Image not found at path: data/dataset/5484.png\n",
      "Image not found at path: data/dataset/5540.png\n",
      "Image not found at path: data/dataset/5585.png\n",
      "Image not found at path: data/dataset/5734.png\n",
      "Image not found at path: data/dataset/5763.png\n",
      "Image not found at path: data/dataset/5905.png\n",
      "Image not found at path: data/dataset/6029.png\n",
      "Image not found at path: data/dataset/6039.png\n",
      "Image not found at path: data/dataset/6193.png\n",
      "Image not found at path: data/dataset/6269.png\n",
      "Image not found at path: data/dataset/6335.png\n",
      "Image not found at path: data/dataset/6354.png\n",
      "Image not found at path: data/dataset/6531.png\n",
      "Image not found at path: data/dataset/6559.png\n",
      "Image not found at path: data/dataset/6600.png\n",
      "Image not found at path: data/dataset/6704.png\n",
      "Image not found at path: data/dataset/6723.png\n",
      "Image not found at path: data/dataset/6750.png\n",
      "Image not found at path: data/dataset/6942.png\n",
      "Image not found at path: data/dataset/7082.png\n",
      "Image not found at path: data/dataset/7122.png\n",
      "Image not found at path: data/dataset/7135.png\n",
      "Image not found at path: data/dataset/7199.png\n",
      "Image not found at path: data/dataset/7287.png\n",
      "Image not found at path: data/dataset/7318.png\n",
      "Image not found at path: data/dataset/7353.png\n",
      "Image not found at path: data/dataset/7412.png\n",
      "Image not found at path: data/dataset/7519.png\n",
      "Image not found at path: data/dataset/7566.png\n",
      "Image not found at path: data/dataset/7626.png\n",
      "Image not found at path: data/dataset/7877.png\n",
      "Image not found at path: data/dataset/7906.png\n",
      "Image not found at path: data/dataset/7938.png\n",
      "Image not found at path: data/dataset/8026.png\n",
      "Image not found at path: data/dataset/8049.png\n",
      "Image not found at path: data/dataset/8057.png\n",
      "Image not found at path: data/dataset/8061.png\n",
      "Image not found at path: data/dataset/8065.png\n",
      "Image not found at path: data/dataset/8123.png\n",
      "Image not found at path: data/dataset/8393.png\n",
      "Image not found at path: data/dataset/8403.png\n",
      "Image not found at path: data/dataset/8451.png\n",
      "Image not found at path: data/dataset/8539.png\n",
      "Image not found at path: data/dataset/8588.png\n",
      "Image not found at path: data/dataset/8766.png\n",
      "Image not found at path: data/dataset/8863.png\n",
      "Image not found at path: data/dataset/8871.png\n",
      "Image not found at path: data/dataset/8879.png\n",
      "Image not found at path: data/dataset/8987.png\n",
      "Image not found at path: data/dataset/9074.png\n",
      "Image not found at path: data/dataset/9085.png\n",
      "Image not found at path: data/dataset/9174.png\n",
      "Image not found at path: data/dataset/9175.png\n",
      "Image not found at path: data/dataset/9185.png\n",
      "Image not found at path: data/dataset/9214.png\n",
      "Image not found at path: data/dataset/9416.png\n",
      "Image not found at path: data/dataset/9480.png\n",
      "Image not found at path: data/dataset/9624.png\n",
      "Image not found at path: data/dataset/9695.png\n",
      "Image not found at path: data/dataset/9699.png\n",
      "Image not found at path: data/dataset/9751.png\n",
      "Image not found at path: data/dataset/9826.png\n",
      "Image not found at path: data/dataset/9871.png\n",
      "Image not found at path: data/dataset/9895.png\n",
      "Image not found at path: data/dataset/9986.png\n",
      "Image not found at path: data/dataset/9993.png\n"
     ]
    }
   ],
   "execution_count": 75
  },
  {
   "metadata": {},
   "cell_type": "markdown",
   "source": [
    "\n",
    "## Further analysis: Popularity of Countries\n",
    "\n",
    "By analyzing the frequency of locations\n",
    "- Ranked based on whatever\n",
    "-\n"
   ],
   "id": "bfd3984bf43d9cb5"
  },
  {
   "metadata": {},
   "cell_type": "code",
   "outputs": [],
   "execution_count": null,
   "source": "",
   "id": "28e828dddbe37da3"
  }
 ],
 "metadata": {
  "kernelspec": {
   "display_name": "Python 3",
   "language": "python",
   "name": "python3"
  },
  "language_info": {
   "codemirror_mode": {
    "name": "ipython",
    "version": 2
   },
   "file_extension": ".py",
   "mimetype": "text/x-python",
   "name": "python",
   "nbconvert_exporter": "python",
   "pygments_lexer": "ipython2",
   "version": "2.7.6"
  }
 },
 "nbformat": 4,
 "nbformat_minor": 5
}
