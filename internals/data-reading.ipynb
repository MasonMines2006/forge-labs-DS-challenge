{
 "cells": [
  {
   "metadata": {},
   "cell_type": "markdown",
   "source": [
    "# Geoguessr Image Analysis\n",
    "## Mason Mines: Up-and-Coming Geoguessr Fan\n",
    "\n",
    "**Introduction:** Geoguessr is a game in which players are placed in a random google-street view somewhere across the globe, and are tasked with identifying where they are based on their surroundings. Points are awarded based on the distance between the guessed and actual location (ranging from 0-5000 points, with 5000 representing essentially adjacent guesses).\n",
    "\n",
    "**Purpose:** By analyzing street-views at random, it is hoped to gain more information about the locations chosen during games to gain a competitive edge. In addition, analyzing global locations could provide other insights unrelated to the game of Geoguessr, such as [...]."
   ],
   "id": "7b8715978167b39"
  },
  {
   "metadata": {
    "ExecuteTime": {
     "end_time": "2025-01-30T02:44:59.986394Z",
     "start_time": "2025-01-30T02:44:59.139095Z"
    }
   },
   "cell_type": "code",
   "source": [
    "import pandas as pd\n",
    "\n",
    "data = pd.read_csv('Airline_review.csv')\n",
    "\n",
    "# Display the first few rows of the data\n",
    "print(data.head())\n",
    "\n",
    "# Optional: Check basic information about the data\n",
    "print(data.info())\n",
    "\n"
   ],
   "id": "a07d70238edae843",
   "outputs": [
    {
     "name": "stdout",
     "output_type": "stream",
     "text": [
      "   Unnamed: 0   Airline Name Overall_Rating  \\\n",
      "0           0    AB Aviation              9   \n",
      "1           1    AB Aviation              1   \n",
      "2           2    AB Aviation              1   \n",
      "3           3  Adria Airways              1   \n",
      "4           4  Adria Airways              1   \n",
      "\n",
      "                            Review_Title          Review Date  Verified  \\\n",
      "0                \"pretty decent airline\"   11th November 2019      True   \n",
      "1                   \"Not a good airline\"       25th June 2019      True   \n",
      "2         \"flight was fortunately short\"       25th June 2019      True   \n",
      "3    \"I will never fly again with Adria\"  28th September 2019     False   \n",
      "4  \"it ruined our last days of holidays\"  24th September 2019      True   \n",
      "\n",
      "                                              Review       Aircraft  \\\n",
      "0    Moroni to Moheli. Turned out to be a pretty ...            NaN   \n",
      "1   Moroni to Anjouan. It is a very small airline...           E120   \n",
      "2    Anjouan to Dzaoudzi. A very small airline an...  Embraer E120    \n",
      "3    Please do a favor yourself and do not fly wi...            NaN   \n",
      "4   Do not book a flight with this airline! My fr...            NaN   \n",
      "\n",
      "  Type Of Traveller      Seat Type                             Route  \\\n",
      "0      Solo Leisure  Economy Class                  Moroni to Moheli   \n",
      "1      Solo Leisure  Economy Class                 Moroni to Anjouan   \n",
      "2      Solo Leisure  Economy Class               Anjouan to Dzaoudzi   \n",
      "3      Solo Leisure  Economy Class             Frankfurt to Pristina   \n",
      "4    Couple Leisure  Economy Class  Sofia to Amsterdam via Ljubljana   \n",
      "\n",
      "       Date Flown  Seat Comfort  Cabin Staff Service  Food & Beverages  \\\n",
      "0   November 2019           4.0                  5.0               4.0   \n",
      "1       June 2019           2.0                  2.0               1.0   \n",
      "2       June 2019           2.0                  1.0               1.0   \n",
      "3  September 2019           1.0                  1.0               NaN   \n",
      "4  September 2019           1.0                  1.0               1.0   \n",
      "\n",
      "   Ground Service  Inflight Entertainment  Wifi & Connectivity  \\\n",
      "0             4.0                     NaN                  NaN   \n",
      "1             1.0                     NaN                  NaN   \n",
      "2             1.0                     NaN                  NaN   \n",
      "3             1.0                     NaN                  NaN   \n",
      "4             1.0                     1.0                  1.0   \n",
      "\n",
      "   Value For Money Recommended  \n",
      "0              3.0         yes  \n",
      "1              2.0          no  \n",
      "2              2.0          no  \n",
      "3              1.0          no  \n",
      "4              1.0          no  \n",
      "<class 'pandas.core.frame.DataFrame'>\n",
      "RangeIndex: 23171 entries, 0 to 23170\n",
      "Data columns (total 20 columns):\n",
      " #   Column                  Non-Null Count  Dtype  \n",
      "---  ------                  --------------  -----  \n",
      " 0   Unnamed: 0              23171 non-null  int64  \n",
      " 1   Airline Name            23171 non-null  object \n",
      " 2   Overall_Rating          23171 non-null  object \n",
      " 3   Review_Title            23171 non-null  object \n",
      " 4   Review Date             23171 non-null  object \n",
      " 5   Verified                23171 non-null  bool   \n",
      " 6   Review                  23171 non-null  object \n",
      " 7   Aircraft                7129 non-null   object \n",
      " 8   Type Of Traveller       19433 non-null  object \n",
      " 9   Seat Type               22075 non-null  object \n",
      " 10  Route                   19343 non-null  object \n",
      " 11  Date Flown              19417 non-null  object \n",
      " 12  Seat Comfort            19016 non-null  float64\n",
      " 13  Cabin Staff Service     18911 non-null  float64\n",
      " 14  Food & Beverages        14500 non-null  float64\n",
      " 15  Ground Service          18378 non-null  float64\n",
      " 16  Inflight Entertainment  10829 non-null  float64\n",
      " 17  Wifi & Connectivity     5920 non-null   float64\n",
      " 18  Value For Money         22105 non-null  float64\n",
      " 19  Recommended             23171 non-null  object \n",
      "dtypes: bool(1), float64(7), int64(1), object(11)\n",
      "memory usage: 3.4+ MB\n",
      "None\n",
      "Unnamed: 0                    0\n",
      "Airline Name                  0\n",
      "Overall_Rating                0\n",
      "Review_Title                  0\n",
      "Review Date                   0\n",
      "Verified                      0\n",
      "Review                        0\n",
      "Aircraft                  16042\n",
      "Type Of Traveller          3738\n",
      "Seat Type                  1096\n",
      "Route                      3828\n",
      "Date Flown                 3754\n",
      "Seat Comfort               4155\n",
      "Cabin Staff Service        4260\n",
      "Food & Beverages           8671\n",
      "Ground Service             4793\n",
      "Inflight Entertainment    12342\n",
      "Wifi & Connectivity       17251\n",
      "Value For Money            1066\n",
      "Recommended                   0\n",
      "dtype: int64\n"
     ]
    }
   ],
   "execution_count": 9
  },
  {
   "metadata": {},
   "cell_type": "markdown",
   "source": "### Initial Data Analysis: [xxx]",
   "id": "fab193cbfd4d6830"
  },
  {
   "metadata": {},
   "cell_type": "markdown",
   "source": "## Initial cleaning\n",
   "id": "d51024457fb7e58b"
  },
  {
   "metadata": {
    "ExecuteTime": {
     "end_time": "2025-01-30T02:59:05.519577Z",
     "start_time": "2025-01-30T02:59:05.510212Z"
    }
   },
   "cell_type": "code",
   "source": [
    "# Remove\n",
    "\n",
    "\n",
    "# Find the most frequent values in a column\n",
    "most_frequent = data['Airline Name'].value_counts()\n",
    "\n",
    "# Display the most frequent values\n",
    "print(most_frequent)\n"
   ],
   "id": "ed657e547f9a1048",
   "outputs": [
    {
     "name": "stdout",
     "output_type": "stream",
     "text": [
      "Airline Name\n",
      "Aegean Airlines      100\n",
      "Vueling Airlines     100\n",
      "PLAY                 100\n",
      "Volotea              100\n",
      "Norwegian            100\n",
      "                    ... \n",
      "TUIfly Nordic          1\n",
      "Air Labrador           1\n",
      "Air Costa              1\n",
      "Air Cote d'Ivoire      1\n",
      "Voyage Air             1\n",
      "Name: count, Length: 497, dtype: int64\n"
     ]
    }
   ],
   "execution_count": 13
  },
  {
   "metadata": {},
   "cell_type": "markdown",
   "source": [
    "\n",
    "## First approach: Statistic based\n",
    "\n",
    "Different approaches\n",
    "- Ranked based on whatever\n",
    "-\n"
   ],
   "id": "bfd3984bf43d9cb5"
  },
  {
   "metadata": {},
   "cell_type": "code",
   "outputs": [],
   "execution_count": null,
   "source": "",
   "id": "28e828dddbe37da3"
  }
 ],
 "metadata": {
  "kernelspec": {
   "display_name": "Python 3",
   "language": "python",
   "name": "python3"
  },
  "language_info": {
   "codemirror_mode": {
    "name": "ipython",
    "version": 2
   },
   "file_extension": ".py",
   "mimetype": "text/x-python",
   "name": "python",
   "nbconvert_exporter": "python",
   "pygments_lexer": "ipython2",
   "version": "2.7.6"
  }
 },
 "nbformat": 4,
 "nbformat_minor": 5
}
